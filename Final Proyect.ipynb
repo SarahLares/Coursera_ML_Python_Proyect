{
  "nbformat": 4,
  "nbformat_minor": 0,
  "metadata": {
    "kernelspec": {
      "display_name": "Python 3.6",
      "language": "python",
      "name": "python3"
    },
    "language_info": {
      "codemirror_mode": {
        "name": "ipython",
        "version": 3
      },
      "file_extension": ".py",
      "mimetype": "text/x-python",
      "name": "python",
      "nbconvert_exporter": "python",
      "pygments_lexer": "ipython3",
      "version": "3.6.9"
    },
    "colab": {
      "name": "Final Proyect.ipynb",
      "provenance": [],
      "include_colab_link": true
    }
  },
  "cells": [
    {
      "cell_type": "markdown",
      "metadata": {
        "id": "view-in-github",
        "colab_type": "text"
      },
      "source": [
        "<a href=\"https://colab.research.google.com/github/SarahLares/Coursera_ML_Python_Proyect/blob/master/Final%20Proyect.ipynb\" target=\"_parent\"><img src=\"https://colab.research.google.com/assets/colab-badge.svg\" alt=\"Open In Colab\"/></a>"
      ]
    },
    {
      "cell_type": "markdown",
      "metadata": {
        "button": false,
        "new_sheet": false,
        "run_control": {
          "read_only": false
        },
        "id": "lvS-xRtiumx8",
        "colab_type": "text"
      },
      "source": [
        "<a href=\"https://www.bigdatauniversity.com\"><img src=\"https://ibm.box.com/shared/static/cw2c7r3o20w9zn8gkecaeyjhgw3xdgbj.png\" width=\"400\" align=\"center\"></a>\n",
        "\n",
        "<h1 align=\"center\"><font size=\"5\">Classification with Python</font></h1>"
      ]
    },
    {
      "cell_type": "markdown",
      "metadata": {
        "button": false,
        "new_sheet": false,
        "run_control": {
          "read_only": false
        },
        "id": "m7qzyN8BumyD",
        "colab_type": "text"
      },
      "source": [
        "In this notebook we try to practice all the classification algorithms that we learned in this course.\n",
        "\n",
        "We load a dataset using Pandas library, and apply the following algorithms, and find the best one for this specific dataset by accuracy evaluation methods.\n",
        "\n",
        "Lets first load required libraries:"
      ]
    },
    {
      "cell_type": "code",
      "metadata": {
        "button": false,
        "new_sheet": false,
        "run_control": {
          "read_only": false
        },
        "id": "FT-JfCygumyH",
        "colab_type": "code",
        "colab": {}
      },
      "source": [
        "import itertools\n",
        "import numpy as np\n",
        "import matplotlib.pyplot as plt\n",
        "from matplotlib.ticker import NullFormatter\n",
        "import pandas as pd\n",
        "import numpy as np\n",
        "import matplotlib.ticker as ticker\n",
        "from sklearn import preprocessing\n",
        "%matplotlib inline"
      ],
      "execution_count": 0,
      "outputs": []
    },
    {
      "cell_type": "markdown",
      "metadata": {
        "button": false,
        "new_sheet": false,
        "run_control": {
          "read_only": false
        },
        "id": "qaCj04lNumyk",
        "colab_type": "text"
      },
      "source": [
        "### About dataset"
      ]
    },
    {
      "cell_type": "markdown",
      "metadata": {
        "button": false,
        "new_sheet": false,
        "run_control": {
          "read_only": false
        },
        "id": "c19AEEfvumyn",
        "colab_type": "text"
      },
      "source": [
        "This dataset is about past loans. The __Loan_train.csv__ data set includes details of 346 customers whose loan are already paid off or defaulted. It includes following fields:\n",
        "\n",
        "| Field          | Description                                                                           |\n",
        "|----------------|---------------------------------------------------------------------------------------|\n",
        "| Loan_status    | Whether a loan is paid off on in collection                                           |\n",
        "| Principal      | Basic principal loan amount at the                                                    |\n",
        "| Terms          | Origination terms which can be weekly (7 days), biweekly, and monthly payoff schedule |\n",
        "| Effective_date | When the loan got originated and took effects                                         |\n",
        "| Due_date       | Since it’s one-time payoff schedule, each loan has one single due date                |\n",
        "| Age            | Age of applicant                                                                      |\n",
        "| Education      | Education of applicant                                                                |\n",
        "| Gender         | The gender of applicant                                                               |"
      ]
    },
    {
      "cell_type": "markdown",
      "metadata": {
        "button": false,
        "new_sheet": false,
        "run_control": {
          "read_only": false
        },
        "id": "o96IYXnjumyq",
        "colab_type": "text"
      },
      "source": [
        "Lets download the dataset"
      ]
    },
    {
      "cell_type": "code",
      "metadata": {
        "button": false,
        "new_sheet": false,
        "run_control": {
          "read_only": false
        },
        "id": "mnDI-9e3umy0",
        "colab_type": "code",
        "outputId": "bcae6642-9a90-46eb-f06e-ab0acb592f57",
        "colab": {
          "base_uri": "https://localhost:8080/",
          "height": 224
        }
      },
      "source": [
        "!wget -O loan_train.csv https://s3-api.us-geo.objectstorage.softlayer.net/cf-courses-data/CognitiveClass/ML0101ENv3/labs/loan_train.csv"
      ],
      "execution_count": 158,
      "outputs": [
        {
          "output_type": "stream",
          "text": [
            "--2020-04-20 22:47:45--  https://s3-api.us-geo.objectstorage.softlayer.net/cf-courses-data/CognitiveClass/ML0101ENv3/labs/loan_train.csv\n",
            "Resolving s3-api.us-geo.objectstorage.softlayer.net (s3-api.us-geo.objectstorage.softlayer.net)... 67.228.254.196\n",
            "Connecting to s3-api.us-geo.objectstorage.softlayer.net (s3-api.us-geo.objectstorage.softlayer.net)|67.228.254.196|:443... connected.\n",
            "HTTP request sent, awaiting response... 200 OK\n",
            "Length: 23101 (23K) [text/csv]\n",
            "Saving to: ‘loan_train.csv’\n",
            "\n",
            "\rloan_train.csv        0%[                    ]       0  --.-KB/s               \rloan_train.csv      100%[===================>]  22.56K  --.-KB/s    in 0.02s   \n",
            "\n",
            "2020-04-20 22:47:45 (1.03 MB/s) - ‘loan_train.csv’ saved [23101/23101]\n",
            "\n"
          ],
          "name": "stdout"
        }
      ]
    },
    {
      "cell_type": "markdown",
      "metadata": {
        "button": false,
        "new_sheet": false,
        "run_control": {
          "read_only": false
        },
        "id": "5bLZKX9fumzP",
        "colab_type": "text"
      },
      "source": [
        "### Load Data From CSV File  "
      ]
    },
    {
      "cell_type": "code",
      "metadata": {
        "button": false,
        "new_sheet": false,
        "run_control": {
          "read_only": false
        },
        "id": "_sfGPs2VumzS",
        "colab_type": "code",
        "outputId": "bde03b36-7ef6-4ef4-f2ee-17b84d3dc907",
        "colab": {
          "base_uri": "https://localhost:8080/",
          "height": 204
        }
      },
      "source": [
        "df = pd.read_csv('loan_train.csv')\n",
        "df.head()"
      ],
      "execution_count": 159,
      "outputs": [
        {
          "output_type": "execute_result",
          "data": {
            "text/html": [
              "<div>\n",
              "<style scoped>\n",
              "    .dataframe tbody tr th:only-of-type {\n",
              "        vertical-align: middle;\n",
              "    }\n",
              "\n",
              "    .dataframe tbody tr th {\n",
              "        vertical-align: top;\n",
              "    }\n",
              "\n",
              "    .dataframe thead th {\n",
              "        text-align: right;\n",
              "    }\n",
              "</style>\n",
              "<table border=\"1\" class=\"dataframe\">\n",
              "  <thead>\n",
              "    <tr style=\"text-align: right;\">\n",
              "      <th></th>\n",
              "      <th>Unnamed: 0</th>\n",
              "      <th>Unnamed: 0.1</th>\n",
              "      <th>loan_status</th>\n",
              "      <th>Principal</th>\n",
              "      <th>terms</th>\n",
              "      <th>effective_date</th>\n",
              "      <th>due_date</th>\n",
              "      <th>age</th>\n",
              "      <th>education</th>\n",
              "      <th>Gender</th>\n",
              "    </tr>\n",
              "  </thead>\n",
              "  <tbody>\n",
              "    <tr>\n",
              "      <th>0</th>\n",
              "      <td>0</td>\n",
              "      <td>0</td>\n",
              "      <td>PAIDOFF</td>\n",
              "      <td>1000</td>\n",
              "      <td>30</td>\n",
              "      <td>9/8/2016</td>\n",
              "      <td>10/7/2016</td>\n",
              "      <td>45</td>\n",
              "      <td>High School or Below</td>\n",
              "      <td>male</td>\n",
              "    </tr>\n",
              "    <tr>\n",
              "      <th>1</th>\n",
              "      <td>2</td>\n",
              "      <td>2</td>\n",
              "      <td>PAIDOFF</td>\n",
              "      <td>1000</td>\n",
              "      <td>30</td>\n",
              "      <td>9/8/2016</td>\n",
              "      <td>10/7/2016</td>\n",
              "      <td>33</td>\n",
              "      <td>Bechalor</td>\n",
              "      <td>female</td>\n",
              "    </tr>\n",
              "    <tr>\n",
              "      <th>2</th>\n",
              "      <td>3</td>\n",
              "      <td>3</td>\n",
              "      <td>PAIDOFF</td>\n",
              "      <td>1000</td>\n",
              "      <td>15</td>\n",
              "      <td>9/8/2016</td>\n",
              "      <td>9/22/2016</td>\n",
              "      <td>27</td>\n",
              "      <td>college</td>\n",
              "      <td>male</td>\n",
              "    </tr>\n",
              "    <tr>\n",
              "      <th>3</th>\n",
              "      <td>4</td>\n",
              "      <td>4</td>\n",
              "      <td>PAIDOFF</td>\n",
              "      <td>1000</td>\n",
              "      <td>30</td>\n",
              "      <td>9/9/2016</td>\n",
              "      <td>10/8/2016</td>\n",
              "      <td>28</td>\n",
              "      <td>college</td>\n",
              "      <td>female</td>\n",
              "    </tr>\n",
              "    <tr>\n",
              "      <th>4</th>\n",
              "      <td>6</td>\n",
              "      <td>6</td>\n",
              "      <td>PAIDOFF</td>\n",
              "      <td>1000</td>\n",
              "      <td>30</td>\n",
              "      <td>9/9/2016</td>\n",
              "      <td>10/8/2016</td>\n",
              "      <td>29</td>\n",
              "      <td>college</td>\n",
              "      <td>male</td>\n",
              "    </tr>\n",
              "  </tbody>\n",
              "</table>\n",
              "</div>"
            ],
            "text/plain": [
              "   Unnamed: 0  Unnamed: 0.1 loan_status  ...  age             education  Gender\n",
              "0           0             0     PAIDOFF  ...   45  High School or Below    male\n",
              "1           2             2     PAIDOFF  ...   33              Bechalor  female\n",
              "2           3             3     PAIDOFF  ...   27               college    male\n",
              "3           4             4     PAIDOFF  ...   28               college  female\n",
              "4           6             6     PAIDOFF  ...   29               college    male\n",
              "\n",
              "[5 rows x 10 columns]"
            ]
          },
          "metadata": {
            "tags": []
          },
          "execution_count": 159
        }
      ]
    },
    {
      "cell_type": "code",
      "metadata": {
        "id": "4hZRiDcYumzn",
        "colab_type": "code",
        "outputId": "44a4af47-85d2-4d8b-82d9-ee17538fbce2",
        "colab": {
          "base_uri": "https://localhost:8080/",
          "height": 34
        }
      },
      "source": [
        "df.shape"
      ],
      "execution_count": 160,
      "outputs": [
        {
          "output_type": "execute_result",
          "data": {
            "text/plain": [
              "(346, 10)"
            ]
          },
          "metadata": {
            "tags": []
          },
          "execution_count": 160
        }
      ]
    },
    {
      "cell_type": "markdown",
      "metadata": {
        "button": false,
        "new_sheet": false,
        "run_control": {
          "read_only": false
        },
        "id": "99_YGMb1umz4",
        "colab_type": "text"
      },
      "source": [
        "### Convert to date time object "
      ]
    },
    {
      "cell_type": "code",
      "metadata": {
        "button": false,
        "collapsed": true,
        "new_sheet": false,
        "run_control": {
          "read_only": false
        },
        "id": "6j_3SAjNumz7",
        "colab_type": "code",
        "outputId": "61e98eb3-6598-42f9-f8aa-524cf3d442c4",
        "colab": {
          "base_uri": "https://localhost:8080/",
          "height": 204
        }
      },
      "source": [
        "df['due_date'] = pd.to_datetime(df['due_date'])\n",
        "df['effective_date'] = pd.to_datetime(df['effective_date'])\n",
        "df.head()"
      ],
      "execution_count": 161,
      "outputs": [
        {
          "output_type": "execute_result",
          "data": {
            "text/html": [
              "<div>\n",
              "<style scoped>\n",
              "    .dataframe tbody tr th:only-of-type {\n",
              "        vertical-align: middle;\n",
              "    }\n",
              "\n",
              "    .dataframe tbody tr th {\n",
              "        vertical-align: top;\n",
              "    }\n",
              "\n",
              "    .dataframe thead th {\n",
              "        text-align: right;\n",
              "    }\n",
              "</style>\n",
              "<table border=\"1\" class=\"dataframe\">\n",
              "  <thead>\n",
              "    <tr style=\"text-align: right;\">\n",
              "      <th></th>\n",
              "      <th>Unnamed: 0</th>\n",
              "      <th>Unnamed: 0.1</th>\n",
              "      <th>loan_status</th>\n",
              "      <th>Principal</th>\n",
              "      <th>terms</th>\n",
              "      <th>effective_date</th>\n",
              "      <th>due_date</th>\n",
              "      <th>age</th>\n",
              "      <th>education</th>\n",
              "      <th>Gender</th>\n",
              "    </tr>\n",
              "  </thead>\n",
              "  <tbody>\n",
              "    <tr>\n",
              "      <th>0</th>\n",
              "      <td>0</td>\n",
              "      <td>0</td>\n",
              "      <td>PAIDOFF</td>\n",
              "      <td>1000</td>\n",
              "      <td>30</td>\n",
              "      <td>2016-09-08</td>\n",
              "      <td>2016-10-07</td>\n",
              "      <td>45</td>\n",
              "      <td>High School or Below</td>\n",
              "      <td>male</td>\n",
              "    </tr>\n",
              "    <tr>\n",
              "      <th>1</th>\n",
              "      <td>2</td>\n",
              "      <td>2</td>\n",
              "      <td>PAIDOFF</td>\n",
              "      <td>1000</td>\n",
              "      <td>30</td>\n",
              "      <td>2016-09-08</td>\n",
              "      <td>2016-10-07</td>\n",
              "      <td>33</td>\n",
              "      <td>Bechalor</td>\n",
              "      <td>female</td>\n",
              "    </tr>\n",
              "    <tr>\n",
              "      <th>2</th>\n",
              "      <td>3</td>\n",
              "      <td>3</td>\n",
              "      <td>PAIDOFF</td>\n",
              "      <td>1000</td>\n",
              "      <td>15</td>\n",
              "      <td>2016-09-08</td>\n",
              "      <td>2016-09-22</td>\n",
              "      <td>27</td>\n",
              "      <td>college</td>\n",
              "      <td>male</td>\n",
              "    </tr>\n",
              "    <tr>\n",
              "      <th>3</th>\n",
              "      <td>4</td>\n",
              "      <td>4</td>\n",
              "      <td>PAIDOFF</td>\n",
              "      <td>1000</td>\n",
              "      <td>30</td>\n",
              "      <td>2016-09-09</td>\n",
              "      <td>2016-10-08</td>\n",
              "      <td>28</td>\n",
              "      <td>college</td>\n",
              "      <td>female</td>\n",
              "    </tr>\n",
              "    <tr>\n",
              "      <th>4</th>\n",
              "      <td>6</td>\n",
              "      <td>6</td>\n",
              "      <td>PAIDOFF</td>\n",
              "      <td>1000</td>\n",
              "      <td>30</td>\n",
              "      <td>2016-09-09</td>\n",
              "      <td>2016-10-08</td>\n",
              "      <td>29</td>\n",
              "      <td>college</td>\n",
              "      <td>male</td>\n",
              "    </tr>\n",
              "  </tbody>\n",
              "</table>\n",
              "</div>"
            ],
            "text/plain": [
              "   Unnamed: 0  Unnamed: 0.1 loan_status  ...  age             education  Gender\n",
              "0           0             0     PAIDOFF  ...   45  High School or Below    male\n",
              "1           2             2     PAIDOFF  ...   33              Bechalor  female\n",
              "2           3             3     PAIDOFF  ...   27               college    male\n",
              "3           4             4     PAIDOFF  ...   28               college  female\n",
              "4           6             6     PAIDOFF  ...   29               college    male\n",
              "\n",
              "[5 rows x 10 columns]"
            ]
          },
          "metadata": {
            "tags": []
          },
          "execution_count": 161
        }
      ]
    },
    {
      "cell_type": "markdown",
      "metadata": {
        "button": false,
        "new_sheet": false,
        "run_control": {
          "read_only": false
        },
        "id": "tmPgKO9Vum0S",
        "colab_type": "text"
      },
      "source": [
        "# Data visualization and pre-processing\n",
        "\n"
      ]
    },
    {
      "cell_type": "markdown",
      "metadata": {
        "button": false,
        "new_sheet": false,
        "run_control": {
          "read_only": false
        },
        "id": "FA3xPNJ2um0X",
        "colab_type": "text"
      },
      "source": [
        "Let’s see how many of each class is in our data set "
      ]
    },
    {
      "cell_type": "code",
      "metadata": {
        "button": false,
        "collapsed": true,
        "new_sheet": false,
        "run_control": {
          "read_only": false
        },
        "id": "riiF_7PHum1C",
        "colab_type": "code",
        "outputId": "9da1ebfa-e944-45e2-befd-b62651634a58",
        "colab": {
          "base_uri": "https://localhost:8080/",
          "height": 68
        }
      },
      "source": [
        "df['loan_status'].value_counts()"
      ],
      "execution_count": 162,
      "outputs": [
        {
          "output_type": "execute_result",
          "data": {
            "text/plain": [
              "PAIDOFF       260\n",
              "COLLECTION     86\n",
              "Name: loan_status, dtype: int64"
            ]
          },
          "metadata": {
            "tags": []
          },
          "execution_count": 162
        }
      ]
    },
    {
      "cell_type": "markdown",
      "metadata": {
        "button": false,
        "new_sheet": false,
        "run_control": {
          "read_only": false
        },
        "id": "BX1dZl_Uum1d",
        "colab_type": "text"
      },
      "source": [
        "260 people have paid off the loan on time while 86 have gone into collection \n"
      ]
    },
    {
      "cell_type": "markdown",
      "metadata": {
        "id": "cBJkOmEOum1h",
        "colab_type": "text"
      },
      "source": [
        "Lets plot some columns to underestand data better:"
      ]
    },
    {
      "cell_type": "code",
      "metadata": {
        "id": "_Y0mf9i4um1s",
        "colab_type": "code",
        "colab": {}
      },
      "source": [
        "# notice: installing seaborn might takes a few minutes\n",
        "#!conda install -c anaconda seaborn -y"
      ],
      "execution_count": 0,
      "outputs": []
    },
    {
      "cell_type": "code",
      "metadata": {
        "id": "emanFoE7um2L",
        "colab_type": "code",
        "outputId": "3c6a96e5-307f-4eda-f791-ffb367785fc7",
        "colab": {
          "base_uri": "https://localhost:8080/",
          "height": 225
        }
      },
      "source": [
        "import seaborn as sns\n",
        "\n",
        "bins = np.linspace(df.Principal.min(), df.Principal.max(), 10)\n",
        "g = sns.FacetGrid(df, col=\"Gender\", hue=\"loan_status\", palette=\"Set2\", col_wrap=2)\n",
        "g.map(plt.hist, 'Principal', bins=bins, ec=\"k\")\n",
        "\n",
        "g.axes[-1].legend()\n",
        "plt.show()"
      ],
      "execution_count": 164,
      "outputs": [
        {
          "output_type": "display_data",
          "data": {
            "image/png": "[encoded data removed]",
            "text/plain": [
              "<Figure size 432x216 with 2 Axes>"
            ]
          },
          "metadata": {
            "tags": [],
            "needs_background": "light"
          }
        }
      ]
    },
    {
      "cell_type": "code",
      "metadata": {
        "button": false,
        "collapsed": true,
        "new_sheet": false,
        "run_control": {
          "read_only": false
        },
        "id": "Q76IO_Vnum2g",
        "colab_type": "code",
        "outputId": "b7ee1dc4-04ec-4ea6-b712-9cd2989c337d",
        "colab": {
          "base_uri": "https://localhost:8080/",
          "height": 225
        }
      },
      "source": [
        "bins = np.linspace(df.age.min(), df.age.max(), 10)\n",
        "g = sns.FacetGrid(df, col=\"Gender\", hue=\"loan_status\", palette=\"Set2\", col_wrap=2)\n",
        "g.map(plt.hist, 'age', bins=bins, ec=\"k\")\n",
        "\n",
        "g.axes[-1].legend()\n",
        "plt.show()"
      ],
      "execution_count": 165,
      "outputs": [
        {
          "output_type": "display_data",
          "data": {
            "image/png": "[encoded data removed]",
            "text/plain": [
              "<Figure size 432x216 with 2 Axes>"
            ]
          },
          "metadata": {
            "tags": [],
            "needs_background": "light"
          }
        }
      ]
    },
    {
      "cell_type": "markdown",
      "metadata": {
        "button": false,
        "new_sheet": false,
        "run_control": {
          "read_only": false
        },
        "id": "9WyHxkQeum3C",
        "colab_type": "text"
      },
      "source": [
        "# Pre-processing:  Feature selection/extraction"
      ]
    },
    {
      "cell_type": "markdown",
      "metadata": {
        "button": false,
        "new_sheet": false,
        "run_control": {
          "read_only": false
        },
        "id": "2DUxKncGum3E",
        "colab_type": "text"
      },
      "source": [
        "### Lets look at the day of the week people get the loan "
      ]
    },
    {
      "cell_type": "code",
      "metadata": {
        "button": false,
        "collapsed": true,
        "new_sheet": false,
        "run_control": {
          "read_only": false
        },
        "id": "QzPHrjXRum3H",
        "colab_type": "code",
        "outputId": "747911de-f568-4f81-ceab-fbe832980259",
        "colab": {
          "base_uri": "https://localhost:8080/",
          "height": 0
        }
      },
      "source": [
        "df['dayofweek'] = df['effective_date'].dt.dayofweek\n",
        "bins = np.linspace(df.dayofweek.min(), df.dayofweek.max(), 10)\n",
        "g = sns.FacetGrid(df, col=\"Gender\", hue=\"loan_status\", palette=\"Set2\", col_wrap=2)\n",
        "g.map(plt.hist, 'dayofweek', bins=bins, ec=\"k\")\n",
        "g.axes[-1].legend()\n",
        "plt.show()\n"
      ],
      "execution_count": 166,
      "outputs": [
        {
          "output_type": "display_data",
          "data": {
            "image/png": "[encoded data removed]",
            "text/plain": [
              "<Figure size 432x216 with 2 Axes>"
            ]
          },
          "metadata": {
            "tags": [],
            "needs_background": "light"
          }
        }
      ]
    },
    {
      "cell_type": "markdown",
      "metadata": {
        "button": false,
        "new_sheet": false,
        "run_control": {
          "read_only": false
        },
        "id": "dJbvwWT1um3k",
        "colab_type": "text"
      },
      "source": [
        "We see that people who get the loan at the end of the week dont pay it off, so lets use Feature binarization to set a threshold values less then day 4 "
      ]
    },
    {
      "cell_type": "code",
      "metadata": {
        "button": false,
        "collapsed": true,
        "new_sheet": false,
        "run_control": {
          "read_only": false
        },
        "id": "Pj7nMBsvum3v",
        "colab_type": "code",
        "outputId": "5efcc9a0-d706-4e1c-b23d-ef3a4ca995fe",
        "colab": {
          "base_uri": "https://localhost:8080/",
          "height": 0
        }
      },
      "source": [
        "df['weekend'] = df['dayofweek'].apply(lambda x: 1 if (x>3)  else 0)\n",
        "df.head()"
      ],
      "execution_count": 167,
      "outputs": [
        {
          "output_type": "execute_result",
          "data": {
            "text/html": [
              "<div>\n",
              "<style scoped>\n",
              "    .dataframe tbody tr th:only-of-type {\n",
              "        vertical-align: middle;\n",
              "    }\n",
              "\n",
              "    .dataframe tbody tr th {\n",
              "        vertical-align: top;\n",
              "    }\n",
              "\n",
              "    .dataframe thead th {\n",
              "        text-align: right;\n",
              "    }\n",
              "</style>\n",
              "<table border=\"1\" class=\"dataframe\">\n",
              "  <thead>\n",
              "    <tr style=\"text-align: right;\">\n",
              "      <th></th>\n",
              "      <th>Unnamed: 0</th>\n",
              "      <th>Unnamed: 0.1</th>\n",
              "      <th>loan_status</th>\n",
              "      <th>Principal</th>\n",
              "      <th>terms</th>\n",
              "      <th>effective_date</th>\n",
              "      <th>due_date</th>\n",
              "      <th>age</th>\n",
              "      <th>education</th>\n",
              "      <th>Gender</th>\n",
              "      <th>dayofweek</th>\n",
              "      <th>weekend</th>\n",
              "    </tr>\n",
              "  </thead>\n",
              "  <tbody>\n",
              "    <tr>\n",
              "      <th>0</th>\n",
              "      <td>0</td>\n",
              "      <td>0</td>\n",
              "      <td>PAIDOFF</td>\n",
              "      <td>1000</td>\n",
              "      <td>30</td>\n",
              "      <td>2016-09-08</td>\n",
              "      <td>2016-10-07</td>\n",
              "      <td>45</td>\n",
              "      <td>High School or Below</td>\n",
              "      <td>male</td>\n",
              "      <td>3</td>\n",
              "      <td>0</td>\n",
              "    </tr>\n",
              "    <tr>\n",
              "      <th>1</th>\n",
              "      <td>2</td>\n",
              "      <td>2</td>\n",
              "      <td>PAIDOFF</td>\n",
              "      <td>1000</td>\n",
              "      <td>30</td>\n",
              "      <td>2016-09-08</td>\n",
              "      <td>2016-10-07</td>\n",
              "      <td>33</td>\n",
              "      <td>Bechalor</td>\n",
              "      <td>female</td>\n",
              "      <td>3</td>\n",
              "      <td>0</td>\n",
              "    </tr>\n",
              "    <tr>\n",
              "      <th>2</th>\n",
              "      <td>3</td>\n",
              "      <td>3</td>\n",
              "      <td>PAIDOFF</td>\n",
              "      <td>1000</td>\n",
              "      <td>15</td>\n",
              "      <td>2016-09-08</td>\n",
              "      <td>2016-09-22</td>\n",
              "      <td>27</td>\n",
              "      <td>college</td>\n",
              "      <td>male</td>\n",
              "      <td>3</td>\n",
              "      <td>0</td>\n",
              "    </tr>\n",
              "    <tr>\n",
              "      <th>3</th>\n",
              "      <td>4</td>\n",
              "      <td>4</td>\n",
              "      <td>PAIDOFF</td>\n",
              "      <td>1000</td>\n",
              "      <td>30</td>\n",
              "      <td>2016-09-09</td>\n",
              "      <td>2016-10-08</td>\n",
              "      <td>28</td>\n",
              "      <td>college</td>\n",
              "      <td>female</td>\n",
              "      <td>4</td>\n",
              "      <td>1</td>\n",
              "    </tr>\n",
              "    <tr>\n",
              "      <th>4</th>\n",
              "      <td>6</td>\n",
              "      <td>6</td>\n",
              "      <td>PAIDOFF</td>\n",
              "      <td>1000</td>\n",
              "      <td>30</td>\n",
              "      <td>2016-09-09</td>\n",
              "      <td>2016-10-08</td>\n",
              "      <td>29</td>\n",
              "      <td>college</td>\n",
              "      <td>male</td>\n",
              "      <td>4</td>\n",
              "      <td>1</td>\n",
              "    </tr>\n",
              "  </tbody>\n",
              "</table>\n",
              "</div>"
            ],
            "text/plain": [
              "   Unnamed: 0  Unnamed: 0.1 loan_status  ...  Gender  dayofweek weekend\n",
              "0           0             0     PAIDOFF  ...    male          3       0\n",
              "1           2             2     PAIDOFF  ...  female          3       0\n",
              "2           3             3     PAIDOFF  ...    male          3       0\n",
              "3           4             4     PAIDOFF  ...  female          4       1\n",
              "4           6             6     PAIDOFF  ...    male          4       1\n",
              "\n",
              "[5 rows x 12 columns]"
            ]
          },
          "metadata": {
            "tags": []
          },
          "execution_count": 167
        }
      ]
    },
    {
      "cell_type": "markdown",
      "metadata": {
        "button": false,
        "new_sheet": false,
        "run_control": {
          "read_only": false
        },
        "id": "ATithoGoum4R",
        "colab_type": "text"
      },
      "source": [
        "## Convert Categorical features to numerical values"
      ]
    },
    {
      "cell_type": "markdown",
      "metadata": {
        "button": false,
        "new_sheet": false,
        "run_control": {
          "read_only": false
        },
        "id": "6Q4mk5hdum4T",
        "colab_type": "text"
      },
      "source": [
        "Lets look at gender:"
      ]
    },
    {
      "cell_type": "code",
      "metadata": {
        "button": false,
        "collapsed": true,
        "new_sheet": false,
        "run_control": {
          "read_only": false
        },
        "id": "LIwd98Kzum4V",
        "colab_type": "code",
        "outputId": "809e9909-2e11-4d05-fe5a-599c78a885fb",
        "colab": {
          "base_uri": "https://localhost:8080/",
          "height": 119
        }
      },
      "source": [
        "df.groupby(['Gender'])['loan_status'].value_counts(normalize=True)"
      ],
      "execution_count": 168,
      "outputs": [
        {
          "output_type": "execute_result",
          "data": {
            "text/plain": [
              "Gender  loan_status\n",
              "female  PAIDOFF        0.865385\n",
              "        COLLECTION     0.134615\n",
              "male    PAIDOFF        0.731293\n",
              "        COLLECTION     0.268707\n",
              "Name: loan_status, dtype: float64"
            ]
          },
          "metadata": {
            "tags": []
          },
          "execution_count": 168
        }
      ]
    },
    {
      "cell_type": "markdown",
      "metadata": {
        "button": false,
        "new_sheet": false,
        "run_control": {
          "read_only": false
        },
        "id": "3TGVY2L8um4x",
        "colab_type": "text"
      },
      "source": [
        "86 % of female pay there loans while only 73 % of males pay there loan\n"
      ]
    },
    {
      "cell_type": "markdown",
      "metadata": {
        "button": false,
        "new_sheet": false,
        "run_control": {
          "read_only": false
        },
        "id": "h5-O0PJhum40",
        "colab_type": "text"
      },
      "source": [
        "Lets convert male to 0 and female to 1:\n"
      ]
    },
    {
      "cell_type": "code",
      "metadata": {
        "button": false,
        "collapsed": true,
        "new_sheet": false,
        "run_control": {
          "read_only": false
        },
        "id": "GwihD4igum43",
        "colab_type": "code",
        "outputId": "093d4f4f-5be2-46da-aa42-4ba4f63b0c8b",
        "colab": {
          "base_uri": "https://localhost:8080/",
          "height": 306
        }
      },
      "source": [
        "df['Gender'].replace(to_replace=['male','female'], value=[0,1],inplace=True)\n",
        "df.head()"
      ],
      "execution_count": 169,
      "outputs": [
        {
          "output_type": "execute_result",
          "data": {
            "text/html": [
              "<div>\n",
              "<style scoped>\n",
              "    .dataframe tbody tr th:only-of-type {\n",
              "        vertical-align: middle;\n",
              "    }\n",
              "\n",
              "    .dataframe tbody tr th {\n",
              "        vertical-align: top;\n",
              "    }\n",
              "\n",
              "    .dataframe thead th {\n",
              "        text-align: right;\n",
              "    }\n",
              "</style>\n",
              "<table border=\"1\" class=\"dataframe\">\n",
              "  <thead>\n",
              "    <tr style=\"text-align: right;\">\n",
              "      <th></th>\n",
              "      <th>Unnamed: 0</th>\n",
              "      <th>Unnamed: 0.1</th>\n",
              "      <th>loan_status</th>\n",
              "      <th>Principal</th>\n",
              "      <th>terms</th>\n",
              "      <th>effective_date</th>\n",
              "      <th>due_date</th>\n",
              "      <th>age</th>\n",
              "      <th>education</th>\n",
              "      <th>Gender</th>\n",
              "      <th>dayofweek</th>\n",
              "      <th>weekend</th>\n",
              "    </tr>\n",
              "  </thead>\n",
              "  <tbody>\n",
              "    <tr>\n",
              "      <th>0</th>\n",
              "      <td>0</td>\n",
              "      <td>0</td>\n",
              "      <td>PAIDOFF</td>\n",
              "      <td>1000</td>\n",
              "      <td>30</td>\n",
              "      <td>2016-09-08</td>\n",
              "      <td>2016-10-07</td>\n",
              "      <td>45</td>\n",
              "      <td>High School or Below</td>\n",
              "      <td>0</td>\n",
              "      <td>3</td>\n",
              "      <td>0</td>\n",
              "    </tr>\n",
              "    <tr>\n",
              "      <th>1</th>\n",
              "      <td>2</td>\n",
              "      <td>2</td>\n",
              "      <td>PAIDOFF</td>\n",
              "      <td>1000</td>\n",
              "      <td>30</td>\n",
              "      <td>2016-09-08</td>\n",
              "      <td>2016-10-07</td>\n",
              "      <td>33</td>\n",
              "      <td>Bechalor</td>\n",
              "      <td>1</td>\n",
              "      <td>3</td>\n",
              "      <td>0</td>\n",
              "    </tr>\n",
              "    <tr>\n",
              "      <th>2</th>\n",
              "      <td>3</td>\n",
              "      <td>3</td>\n",
              "      <td>PAIDOFF</td>\n",
              "      <td>1000</td>\n",
              "      <td>15</td>\n",
              "      <td>2016-09-08</td>\n",
              "      <td>2016-09-22</td>\n",
              "      <td>27</td>\n",
              "      <td>college</td>\n",
              "      <td>0</td>\n",
              "      <td>3</td>\n",
              "      <td>0</td>\n",
              "    </tr>\n",
              "    <tr>\n",
              "      <th>3</th>\n",
              "      <td>4</td>\n",
              "      <td>4</td>\n",
              "      <td>PAIDOFF</td>\n",
              "      <td>1000</td>\n",
              "      <td>30</td>\n",
              "      <td>2016-09-09</td>\n",
              "      <td>2016-10-08</td>\n",
              "      <td>28</td>\n",
              "      <td>college</td>\n",
              "      <td>1</td>\n",
              "      <td>4</td>\n",
              "      <td>1</td>\n",
              "    </tr>\n",
              "    <tr>\n",
              "      <th>4</th>\n",
              "      <td>6</td>\n",
              "      <td>6</td>\n",
              "      <td>PAIDOFF</td>\n",
              "      <td>1000</td>\n",
              "      <td>30</td>\n",
              "      <td>2016-09-09</td>\n",
              "      <td>2016-10-08</td>\n",
              "      <td>29</td>\n",
              "      <td>college</td>\n",
              "      <td>0</td>\n",
              "      <td>4</td>\n",
              "      <td>1</td>\n",
              "    </tr>\n",
              "  </tbody>\n",
              "</table>\n",
              "</div>"
            ],
            "text/plain": [
              "   Unnamed: 0  Unnamed: 0.1 loan_status  ...  Gender  dayofweek weekend\n",
              "0           0             0     PAIDOFF  ...       0          3       0\n",
              "1           2             2     PAIDOFF  ...       1          3       0\n",
              "2           3             3     PAIDOFF  ...       0          3       0\n",
              "3           4             4     PAIDOFF  ...       1          4       1\n",
              "4           6             6     PAIDOFF  ...       0          4       1\n",
              "\n",
              "[5 rows x 12 columns]"
            ]
          },
          "metadata": {
            "tags": []
          },
          "execution_count": 169
        }
      ]
    },
    {
      "cell_type": "markdown",
      "metadata": {
        "button": false,
        "new_sheet": false,
        "run_control": {
          "read_only": false
        },
        "id": "KwqekmZ3um5R",
        "colab_type": "text"
      },
      "source": [
        "## One Hot Encoding  \n",
        "#### How about education?"
      ]
    },
    {
      "cell_type": "code",
      "metadata": {
        "button": false,
        "collapsed": true,
        "new_sheet": false,
        "run_control": {
          "read_only": false
        },
        "id": "iG3sI5a2um5U",
        "colab_type": "code",
        "outputId": "caab02f4-a039-40cd-d185-e39b67940898",
        "colab": {
          "base_uri": "https://localhost:8080/",
          "height": 187
        }
      },
      "source": [
        "df.groupby(['education'])['loan_status'].value_counts(normalize=True)"
      ],
      "execution_count": 170,
      "outputs": [
        {
          "output_type": "execute_result",
          "data": {
            "text/plain": [
              "education             loan_status\n",
              "Bechalor              PAIDOFF        0.750000\n",
              "                      COLLECTION     0.250000\n",
              "High School or Below  PAIDOFF        0.741722\n",
              "                      COLLECTION     0.258278\n",
              "Master or Above       COLLECTION     0.500000\n",
              "                      PAIDOFF        0.500000\n",
              "college               PAIDOFF        0.765101\n",
              "                      COLLECTION     0.234899\n",
              "Name: loan_status, dtype: float64"
            ]
          },
          "metadata": {
            "tags": []
          },
          "execution_count": 170
        }
      ]
    },
    {
      "cell_type": "markdown",
      "metadata": {
        "button": false,
        "new_sheet": false,
        "run_control": {
          "read_only": false
        },
        "id": "GniYzFWpum5s",
        "colab_type": "text"
      },
      "source": [
        "#### Feature befor One Hot Encoding"
      ]
    },
    {
      "cell_type": "code",
      "metadata": {
        "button": false,
        "collapsed": true,
        "new_sheet": false,
        "run_control": {
          "read_only": false
        },
        "id": "hcHKEXTwum5-",
        "colab_type": "code",
        "outputId": "8c97a2a0-c992-4c2b-f1b1-b754c4d5f997",
        "colab": {
          "base_uri": "https://localhost:8080/",
          "height": 0
        }
      },
      "source": [
        "df[['Principal','terms','age','Gender','education']].head()"
      ],
      "execution_count": 171,
      "outputs": [
        {
          "output_type": "execute_result",
          "data": {
            "text/html": [
              "<div>\n",
              "<style scoped>\n",
              "    .dataframe tbody tr th:only-of-type {\n",
              "        vertical-align: middle;\n",
              "    }\n",
              "\n",
              "    .dataframe tbody tr th {\n",
              "        vertical-align: top;\n",
              "    }\n",
              "\n",
              "    .dataframe thead th {\n",
              "        text-align: right;\n",
              "    }\n",
              "</style>\n",
              "<table border=\"1\" class=\"dataframe\">\n",
              "  <thead>\n",
              "    <tr style=\"text-align: right;\">\n",
              "      <th></th>\n",
              "      <th>Principal</th>\n",
              "      <th>terms</th>\n",
              "      <th>age</th>\n",
              "      <th>Gender</th>\n",
              "      <th>education</th>\n",
              "    </tr>\n",
              "  </thead>\n",
              "  <tbody>\n",
              "    <tr>\n",
              "      <th>0</th>\n",
              "      <td>1000</td>\n",
              "      <td>30</td>\n",
              "      <td>45</td>\n",
              "      <td>0</td>\n",
              "      <td>High School or Below</td>\n",
              "    </tr>\n",
              "    <tr>\n",
              "      <th>1</th>\n",
              "      <td>1000</td>\n",
              "      <td>30</td>\n",
              "      <td>33</td>\n",
              "      <td>1</td>\n",
              "      <td>Bechalor</td>\n",
              "    </tr>\n",
              "    <tr>\n",
              "      <th>2</th>\n",
              "      <td>1000</td>\n",
              "      <td>15</td>\n",
              "      <td>27</td>\n",
              "      <td>0</td>\n",
              "      <td>college</td>\n",
              "    </tr>\n",
              "    <tr>\n",
              "      <th>3</th>\n",
              "      <td>1000</td>\n",
              "      <td>30</td>\n",
              "      <td>28</td>\n",
              "      <td>1</td>\n",
              "      <td>college</td>\n",
              "    </tr>\n",
              "    <tr>\n",
              "      <th>4</th>\n",
              "      <td>1000</td>\n",
              "      <td>30</td>\n",
              "      <td>29</td>\n",
              "      <td>0</td>\n",
              "      <td>college</td>\n",
              "    </tr>\n",
              "  </tbody>\n",
              "</table>\n",
              "</div>"
            ],
            "text/plain": [
              "   Principal  terms  age  Gender             education\n",
              "0       1000     30   45       0  High School or Below\n",
              "1       1000     30   33       1              Bechalor\n",
              "2       1000     15   27       0               college\n",
              "3       1000     30   28       1               college\n",
              "4       1000     30   29       0               college"
            ]
          },
          "metadata": {
            "tags": []
          },
          "execution_count": 171
        }
      ]
    },
    {
      "cell_type": "markdown",
      "metadata": {
        "button": false,
        "new_sheet": false,
        "run_control": {
          "read_only": false
        },
        "id": "WqY5MnV1um6Y",
        "colab_type": "text"
      },
      "source": [
        "#### Use one hot encoding technique to conver categorical varables to binary variables and append them to the feature Data Frame "
      ]
    },
    {
      "cell_type": "code",
      "metadata": {
        "button": false,
        "collapsed": true,
        "new_sheet": false,
        "run_control": {
          "read_only": false
        },
        "id": "GsdN3f4Zum6c",
        "colab_type": "code",
        "outputId": "334e2f02-a317-4186-bb8c-6910ff6bf6c6",
        "colab": {
          "base_uri": "https://localhost:8080/",
          "height": 0
        }
      },
      "source": [
        "Feature = df[['Principal','terms','age','Gender','weekend']]\n",
        "Feature = pd.concat([Feature,pd.get_dummies(df['education'])], axis=1)\n",
        "Feature.drop(['Master or Above'], axis = 1,inplace=True)\n",
        "Feature.head()\n"
      ],
      "execution_count": 172,
      "outputs": [
        {
          "output_type": "execute_result",
          "data": {
            "text/html": [
              "<div>\n",
              "<style scoped>\n",
              "    .dataframe tbody tr th:only-of-type {\n",
              "        vertical-align: middle;\n",
              "    }\n",
              "\n",
              "    .dataframe tbody tr th {\n",
              "        vertical-align: top;\n",
              "    }\n",
              "\n",
              "    .dataframe thead th {\n",
              "        text-align: right;\n",
              "    }\n",
              "</style>\n",
              "<table border=\"1\" class=\"dataframe\">\n",
              "  <thead>\n",
              "    <tr style=\"text-align: right;\">\n",
              "      <th></th>\n",
              "      <th>Principal</th>\n",
              "      <th>terms</th>\n",
              "      <th>age</th>\n",
              "      <th>Gender</th>\n",
              "      <th>weekend</th>\n",
              "      <th>Bechalor</th>\n",
              "      <th>High School or Below</th>\n",
              "      <th>college</th>\n",
              "    </tr>\n",
              "  </thead>\n",
              "  <tbody>\n",
              "    <tr>\n",
              "      <th>0</th>\n",
              "      <td>1000</td>\n",
              "      <td>30</td>\n",
              "      <td>45</td>\n",
              "      <td>0</td>\n",
              "      <td>0</td>\n",
              "      <td>0</td>\n",
              "      <td>1</td>\n",
              "      <td>0</td>\n",
              "    </tr>\n",
              "    <tr>\n",
              "      <th>1</th>\n",
              "      <td>1000</td>\n",
              "      <td>30</td>\n",
              "      <td>33</td>\n",
              "      <td>1</td>\n",
              "      <td>0</td>\n",
              "      <td>1</td>\n",
              "      <td>0</td>\n",
              "      <td>0</td>\n",
              "    </tr>\n",
              "    <tr>\n",
              "      <th>2</th>\n",
              "      <td>1000</td>\n",
              "      <td>15</td>\n",
              "      <td>27</td>\n",
              "      <td>0</td>\n",
              "      <td>0</td>\n",
              "      <td>0</td>\n",
              "      <td>0</td>\n",
              "      <td>1</td>\n",
              "    </tr>\n",
              "    <tr>\n",
              "      <th>3</th>\n",
              "      <td>1000</td>\n",
              "      <td>30</td>\n",
              "      <td>28</td>\n",
              "      <td>1</td>\n",
              "      <td>1</td>\n",
              "      <td>0</td>\n",
              "      <td>0</td>\n",
              "      <td>1</td>\n",
              "    </tr>\n",
              "    <tr>\n",
              "      <th>4</th>\n",
              "      <td>1000</td>\n",
              "      <td>30</td>\n",
              "      <td>29</td>\n",
              "      <td>0</td>\n",
              "      <td>1</td>\n",
              "      <td>0</td>\n",
              "      <td>0</td>\n",
              "      <td>1</td>\n",
              "    </tr>\n",
              "  </tbody>\n",
              "</table>\n",
              "</div>"
            ],
            "text/plain": [
              "   Principal  terms  age  ...  Bechalor  High School or Below  college\n",
              "0       1000     30   45  ...         0                     1        0\n",
              "1       1000     30   33  ...         1                     0        0\n",
              "2       1000     15   27  ...         0                     0        1\n",
              "3       1000     30   28  ...         0                     0        1\n",
              "4       1000     30   29  ...         0                     0        1\n",
              "\n",
              "[5 rows x 8 columns]"
            ]
          },
          "metadata": {
            "tags": []
          },
          "execution_count": 172
        }
      ]
    },
    {
      "cell_type": "markdown",
      "metadata": {
        "button": false,
        "new_sheet": false,
        "run_control": {
          "read_only": false
        },
        "id": "4cJpVabCum7U",
        "colab_type": "text"
      },
      "source": [
        "### Feature selection"
      ]
    },
    {
      "cell_type": "markdown",
      "metadata": {
        "button": false,
        "new_sheet": false,
        "run_control": {
          "read_only": false
        },
        "id": "LrtzHYvPum7e",
        "colab_type": "text"
      },
      "source": [
        "Lets defind feature sets, X:"
      ]
    },
    {
      "cell_type": "code",
      "metadata": {
        "button": false,
        "collapsed": true,
        "new_sheet": false,
        "run_control": {
          "read_only": false
        },
        "id": "rfZ0U_Nfum7j",
        "colab_type": "code",
        "outputId": "080abfe5-769c-4b0d-ba5d-3003a912bcbb",
        "colab": {
          "base_uri": "https://localhost:8080/",
          "height": 0
        }
      },
      "source": [
        "X = Feature\n",
        "X[0:5]"
      ],
      "execution_count": 173,
      "outputs": [
        {
          "output_type": "execute_result",
          "data": {
            "text/html": [
              "<div>\n",
              "<style scoped>\n",
              "    .dataframe tbody tr th:only-of-type {\n",
              "        vertical-align: middle;\n",
              "    }\n",
              "\n",
              "    .dataframe tbody tr th {\n",
              "        vertical-align: top;\n",
              "    }\n",
              "\n",
              "    .dataframe thead th {\n",
              "        text-align: right;\n",
              "    }\n",
              "</style>\n",
              "<table border=\"1\" class=\"dataframe\">\n",
              "  <thead>\n",
              "    <tr style=\"text-align: right;\">\n",
              "      <th></th>\n",
              "      <th>Principal</th>\n",
              "      <th>terms</th>\n",
              "      <th>age</th>\n",
              "      <th>Gender</th>\n",
              "      <th>weekend</th>\n",
              "      <th>Bechalor</th>\n",
              "      <th>High School or Below</th>\n",
              "      <th>college</th>\n",
              "    </tr>\n",
              "  </thead>\n",
              "  <tbody>\n",
              "    <tr>\n",
              "      <th>0</th>\n",
              "      <td>1000</td>\n",
              "      <td>30</td>\n",
              "      <td>45</td>\n",
              "      <td>0</td>\n",
              "      <td>0</td>\n",
              "      <td>0</td>\n",
              "      <td>1</td>\n",
              "      <td>0</td>\n",
              "    </tr>\n",
              "    <tr>\n",
              "      <th>1</th>\n",
              "      <td>1000</td>\n",
              "      <td>30</td>\n",
              "      <td>33</td>\n",
              "      <td>1</td>\n",
              "      <td>0</td>\n",
              "      <td>1</td>\n",
              "      <td>0</td>\n",
              "      <td>0</td>\n",
              "    </tr>\n",
              "    <tr>\n",
              "      <th>2</th>\n",
              "      <td>1000</td>\n",
              "      <td>15</td>\n",
              "      <td>27</td>\n",
              "      <td>0</td>\n",
              "      <td>0</td>\n",
              "      <td>0</td>\n",
              "      <td>0</td>\n",
              "      <td>1</td>\n",
              "    </tr>\n",
              "    <tr>\n",
              "      <th>3</th>\n",
              "      <td>1000</td>\n",
              "      <td>30</td>\n",
              "      <td>28</td>\n",
              "      <td>1</td>\n",
              "      <td>1</td>\n",
              "      <td>0</td>\n",
              "      <td>0</td>\n",
              "      <td>1</td>\n",
              "    </tr>\n",
              "    <tr>\n",
              "      <th>4</th>\n",
              "      <td>1000</td>\n",
              "      <td>30</td>\n",
              "      <td>29</td>\n",
              "      <td>0</td>\n",
              "      <td>1</td>\n",
              "      <td>0</td>\n",
              "      <td>0</td>\n",
              "      <td>1</td>\n",
              "    </tr>\n",
              "  </tbody>\n",
              "</table>\n",
              "</div>"
            ],
            "text/plain": [
              "   Principal  terms  age  ...  Bechalor  High School or Below  college\n",
              "0       1000     30   45  ...         0                     1        0\n",
              "1       1000     30   33  ...         1                     0        0\n",
              "2       1000     15   27  ...         0                     0        1\n",
              "3       1000     30   28  ...         0                     0        1\n",
              "4       1000     30   29  ...         0                     0        1\n",
              "\n",
              "[5 rows x 8 columns]"
            ]
          },
          "metadata": {
            "tags": []
          },
          "execution_count": 173
        }
      ]
    },
    {
      "cell_type": "markdown",
      "metadata": {
        "button": false,
        "new_sheet": false,
        "run_control": {
          "read_only": false
        },
        "id": "-MG2ZEYEum8R",
        "colab_type": "text"
      },
      "source": [
        "What are our lables?"
      ]
    },
    {
      "cell_type": "code",
      "metadata": {
        "button": false,
        "collapsed": true,
        "new_sheet": false,
        "run_control": {
          "read_only": false
        },
        "id": "ketfYLz_um8W",
        "colab_type": "code",
        "outputId": "4a98ebc8-8785-4f25-b645-a84358f5f53c",
        "colab": {
          "base_uri": "https://localhost:8080/",
          "height": 0
        }
      },
      "source": [
        "y = df['loan_status'].values\n",
        "y[0:5]"
      ],
      "execution_count": 174,
      "outputs": [
        {
          "output_type": "execute_result",
          "data": {
            "text/plain": [
              "array(['PAIDOFF', 'PAIDOFF', 'PAIDOFF', 'PAIDOFF', 'PAIDOFF'],\n",
              "      dtype=object)"
            ]
          },
          "metadata": {
            "tags": []
          },
          "execution_count": 174
        }
      ]
    },
    {
      "cell_type": "markdown",
      "metadata": {
        "button": false,
        "new_sheet": false,
        "run_control": {
          "read_only": false
        },
        "id": "6-BA4lbsum8s",
        "colab_type": "text"
      },
      "source": [
        "## Normalize Data "
      ]
    },
    {
      "cell_type": "markdown",
      "metadata": {
        "button": false,
        "new_sheet": false,
        "run_control": {
          "read_only": false
        },
        "id": "CYagjPS0um8u",
        "colab_type": "text"
      },
      "source": [
        "Data Standardization give data zero mean and unit variance (technically should be done after train test split )"
      ]
    },
    {
      "cell_type": "code",
      "metadata": {
        "button": false,
        "collapsed": true,
        "new_sheet": false,
        "run_control": {
          "read_only": false
        },
        "id": "i16a-stVum8x",
        "colab_type": "code",
        "outputId": "268ea7a1-8021-41b5-e621-00cc2cf0cdbe",
        "colab": {
          "base_uri": "https://localhost:8080/",
          "height": 187
        }
      },
      "source": [
        "X= preprocessing.StandardScaler().fit(X).transform(X)\n",
        "X[0:5]"
      ],
      "execution_count": 175,
      "outputs": [
        {
          "output_type": "execute_result",
          "data": {
            "text/plain": [
              "array([[ 0.51578458,  0.92071769,  2.33152555, -0.42056004, -1.20577805,\n",
              "        -0.38170062,  1.13639374, -0.86968108],\n",
              "       [ 0.51578458,  0.92071769,  0.34170148,  2.37778177, -1.20577805,\n",
              "         2.61985426, -0.87997669, -0.86968108],\n",
              "       [ 0.51578458, -0.95911111, -0.65321055, -0.42056004, -1.20577805,\n",
              "        -0.38170062, -0.87997669,  1.14984679],\n",
              "       [ 0.51578458,  0.92071769, -0.48739188,  2.37778177,  0.82934003,\n",
              "        -0.38170062, -0.87997669,  1.14984679],\n",
              "       [ 0.51578458,  0.92071769, -0.3215732 , -0.42056004,  0.82934003,\n",
              "        -0.38170062, -0.87997669,  1.14984679]])"
            ]
          },
          "metadata": {
            "tags": []
          },
          "execution_count": 175
        }
      ]
    },
    {
      "cell_type": "markdown",
      "metadata": {
        "button": false,
        "new_sheet": false,
        "run_control": {
          "read_only": false
        },
        "id": "T2XnPhhLum9N",
        "colab_type": "text"
      },
      "source": [
        "# Classification "
      ]
    },
    {
      "cell_type": "markdown",
      "metadata": {
        "button": false,
        "new_sheet": false,
        "run_control": {
          "read_only": false
        },
        "id": "n_gkmKV-um9P",
        "colab_type": "text"
      },
      "source": [
        "Now, it is your turn, use the training set to build an accurate model. Then use the test set to report the accuracy of the model\n",
        "You should use the following algorithm:\n",
        "- K Nearest Neighbor(KNN)\n",
        "- Decision Tree\n",
        "- Support Vector Machine\n",
        "- Logistic Regression\n",
        "\n",
        "\n",
        "\n",
        "__ Notice:__ \n",
        "- You can go above and change the pre-processing, feature selection, feature-extraction, and so on, to make a better model.\n",
        "- You should use either scikit-learn, Scipy or Numpy libraries for developing the classification algorithms.\n",
        "- You should include the code of the algorithm in the following cells."
      ]
    },
    {
      "cell_type": "markdown",
      "metadata": {
        "id": "WUn0aMnWum9S",
        "colab_type": "text"
      },
      "source": [
        "# K Nearest Neighbor(KNN)\n",
        "Notice: You should find the best k to build the model with the best accuracy.  \n",
        "**warning:** You should not use the __loan_test.csv__ for finding the best k, however, you can split your train_loan.csv into train and test to find the best __k__."
      ]
    },
    {
      "cell_type": "code",
      "metadata": {
        "id": "fTIpu-DQum9U",
        "colab_type": "code",
        "colab": {}
      },
      "source": [
        "from sklearn.model_selection import train_test_split\n",
        "X_train, X_test, y_train, y_test = train_test_split( X, y, test_size=0.25, random_state=4)\n"
      ],
      "execution_count": 0,
      "outputs": []
    },
    {
      "cell_type": "code",
      "metadata": {
        "id": "AxNHLhis9SuU",
        "colab_type": "code",
        "colab": {
          "base_uri": "https://localhost:8080/",
          "height": 314
        },
        "outputId": "608ed860-28df-4dd0-fbf2-bde9a6fb16d3"
      },
      "source": [
        "from sklearn.neighbors import KNeighborsClassifier\n",
        "from sklearn import metrics\n",
        "\n",
        "Ks = 10\n",
        "mean_acc = np.zeros((Ks-1))\n",
        "std_acc = np.zeros((Ks-1))\n",
        "ConfustionMx = [];\n",
        "for n in range(1,Ks):\n",
        "    \n",
        "    #Train Model and Predict  \n",
        "    neighb = KNeighborsClassifier(n_neighbors = n).fit(X_train,y_train)\n",
        "    yhat=neighb.predict(X_test)\n",
        "    mean_acc[n-1] = metrics.accuracy_score(y_test, yhat)\n",
        "\n",
        "    \n",
        "    std_acc[n-1]=np.std(yhat==y_test)/np.sqrt(yhat.shape[0])\n",
        "\n",
        "print( \"The best accuracy was with\", mean_acc.max(), \"with k=\", mean_acc.argmax()+1) \n",
        "\n",
        "plt.plot(range(1,Ks),mean_acc,'g')\n",
        "plt.fill_between(range(1,Ks),mean_acc - 1 * std_acc,mean_acc + 1 * std_acc, alpha=0.10)\n",
        "plt.legend(('Accuracy ', '+/- 3xstd'))\n",
        "plt.ylabel('Accuracy ')\n",
        "plt.xlabel('Number of Nabors (K)')\n",
        "plt.tight_layout()\n",
        "plt.show()"
      ],
      "execution_count": 247,
      "outputs": [
        {
          "output_type": "stream",
          "text": [
            "The best accuracy was with 0.7931034482758621 with k= 5\n"
          ],
          "name": "stdout"
        },
        {
          "output_type": "display_data",
          "data": {
            "image/png": "[encoded data removed]",
            "text/plain": [
              "<Figure size 432x288 with 1 Axes>"
            ]
          },
          "metadata": {
            "tags": [],
            "needs_background": "light"
          }
        }
      ]
    },
    {
      "cell_type": "code",
      "metadata": {
        "id": "XY-hj_Npum9n",
        "colab_type": "code",
        "colab": {}
      },
      "source": [
        "#Train Model\n",
        "k = 5\n",
        "neigh = KNeighborsClassifier(n_neighbors = k).fit(X_train,y_train)"
      ],
      "execution_count": 0,
      "outputs": []
    },
    {
      "cell_type": "markdown",
      "metadata": {
        "id": "OWGUcf8WAt5A",
        "colab_type": "text"
      },
      "source": [
        "The model was trained with different $k$ values and it got the best accuracy using $k=5$"
      ]
    },
    {
      "cell_type": "code",
      "metadata": {
        "id": "Z3X-8oogum9w",
        "colab_type": "code",
        "outputId": "325899cb-9ffd-4adb-952e-dbef16e4999c",
        "colab": {
          "base_uri": "https://localhost:8080/",
          "height": 51
        }
      },
      "source": [
        "#Predict\n",
        "predneigh = neigh.predict(X_test)\n",
        "#Accuracy \n",
        "print(\"Train set Accuracy: \", metrics.accuracy_score(y_train, neigh.predict(X_train)))\n",
        "print(\"Test set Accuracy: \", metrics.accuracy_score(y_test, predneigh))"
      ],
      "execution_count": 178,
      "outputs": [
        {
          "output_type": "stream",
          "text": [
            "Train set Accuracy:  0.806949806949807\n",
            "Test set Accuracy:  0.7931034482758621\n"
          ],
          "name": "stdout"
        }
      ]
    },
    {
      "cell_type": "markdown",
      "metadata": {
        "id": "cgVMV6Czum-A",
        "colab_type": "text"
      },
      "source": [
        "# Decision Tree"
      ]
    },
    {
      "cell_type": "code",
      "metadata": {
        "id": "oRxDkCstum-D",
        "colab_type": "code",
        "colab": {}
      },
      "source": [
        "from sklearn.tree import DecisionTreeClassifier"
      ],
      "execution_count": 0,
      "outputs": []
    },
    {
      "cell_type": "code",
      "metadata": {
        "id": "tprc2rBbum-b",
        "colab_type": "code",
        "colab": {}
      },
      "source": [
        "#Train Model\n",
        "Tree= DecisionTreeClassifier(criterion=\"entropy\", max_depth = 4).fit(X_train,y_train)"
      ],
      "execution_count": 0,
      "outputs": []
    },
    {
      "cell_type": "code",
      "metadata": {
        "id": "QVC_YZrium-s",
        "colab_type": "code",
        "outputId": "f950bd62-790e-41f2-d4c3-87509e629890",
        "colab": {
          "base_uri": "https://localhost:8080/",
          "height": 51
        }
      },
      "source": [
        "#Prediction\n",
        "predTree = Tree.predict(X_test)\n",
        "#Accuracy \n",
        "print(\"Train set Accuracy: \", metrics.accuracy_score(y_train, Tree.predict(X_train)))\n",
        "print(\"Test set Accuracy: \", metrics.accuracy_score(y_test, predTree))"
      ],
      "execution_count": 181,
      "outputs": [
        {
          "output_type": "stream",
          "text": [
            "Train set Accuracy:  0.7606177606177607\n",
            "Test set Accuracy:  0.735632183908046\n"
          ],
          "name": "stdout"
        }
      ]
    },
    {
      "cell_type": "markdown",
      "metadata": {
        "id": "OTEOIx7hum-3",
        "colab_type": "text"
      },
      "source": [
        "# Support Vector Machine"
      ]
    },
    {
      "cell_type": "code",
      "metadata": {
        "id": "pxgSJMWFum-6",
        "colab_type": "code",
        "colab": {}
      },
      "source": [
        "from sklearn import svm"
      ],
      "execution_count": 0,
      "outputs": []
    },
    {
      "cell_type": "code",
      "metadata": {
        "id": "bzeomCKIum_J",
        "colab_type": "code",
        "colab": {}
      },
      "source": [
        "#Train Model\n",
        "SVM_Class = svm.SVC(kernel='rbf').fit(X_train, y_train) "
      ],
      "execution_count": 0,
      "outputs": []
    },
    {
      "cell_type": "code",
      "metadata": {
        "id": "9PtAE92Num_s",
        "colab_type": "code",
        "outputId": "6cbef851-7e16-4e1b-a9e7-a9f699855f14",
        "colab": {
          "base_uri": "https://localhost:8080/",
          "height": 51
        }
      },
      "source": [
        "#Prediction\n",
        "predsvm = SVM_Class.predict(X_test)\n",
        "#Accuracy \n",
        "print(\"Train set Accuracy: \", metrics.accuracy_score(y_train, SVM_Class.predict(X_train)))\n",
        "print(\"Test set Accuracy: \", metrics.accuracy_score(y_test, predsvm))"
      ],
      "execution_count": 244,
      "outputs": [
        {
          "output_type": "stream",
          "text": [
            "Train set Accuracy:  0.7606177606177607\n",
            "Test set Accuracy:  0.7471264367816092\n"
          ],
          "name": "stdout"
        }
      ]
    },
    {
      "cell_type": "markdown",
      "metadata": {
        "id": "N9tm9hIIunAE",
        "colab_type": "text"
      },
      "source": [
        "# Logistic Regression"
      ]
    },
    {
      "cell_type": "code",
      "metadata": {
        "id": "t9W79eHAunAG",
        "colab_type": "code",
        "colab": {}
      },
      "source": [
        "from sklearn.linear_model import LogisticRegression"
      ],
      "execution_count": 0,
      "outputs": []
    },
    {
      "cell_type": "code",
      "metadata": {
        "id": "LqXshZI9unAg",
        "colab_type": "code",
        "colab": {}
      },
      "source": [
        "#Train Model\n",
        "LR = LogisticRegression( solver='saga').fit(X_train,y_train)"
      ],
      "execution_count": 0,
      "outputs": []
    },
    {
      "cell_type": "code",
      "metadata": {
        "id": "uuPR3uwjunAy",
        "colab_type": "code",
        "outputId": "19ab7b90-993f-405d-86ae-4bd18b3f043c",
        "colab": {
          "base_uri": "https://localhost:8080/",
          "height": 51
        }
      },
      "source": [
        "#Prediction\n",
        "predLR = LR.predict(X_test)\n",
        "#Accuracy\n",
        "print(\"Train set Accuracy: \", metrics.accuracy_score(y_train, LR.predict(X_train)))\n",
        "print(\"Test set Accuracy: \", metrics.accuracy_score(y_test, predLR))"
      ],
      "execution_count": 237,
      "outputs": [
        {
          "output_type": "stream",
          "text": [
            "Train set Accuracy:  0.7644787644787645\n",
            "Test set Accuracy:  0.735632183908046\n"
          ],
          "name": "stdout"
        }
      ]
    },
    {
      "cell_type": "markdown",
      "metadata": {
        "id": "acU8EZLGunBA",
        "colab_type": "text"
      },
      "source": [
        "# Model Evaluation using Test set"
      ]
    },
    {
      "cell_type": "code",
      "metadata": {
        "id": "8jzaiGj2unBE",
        "colab_type": "code",
        "colab": {}
      },
      "source": [
        "from sklearn.metrics import jaccard_score\n",
        "from sklearn.metrics import f1_score\n",
        "from sklearn.metrics import log_loss"
      ],
      "execution_count": 0,
      "outputs": []
    },
    {
      "cell_type": "markdown",
      "metadata": {
        "id": "qezrTXa6unBV",
        "colab_type": "text"
      },
      "source": [
        "First, download and load the test set:"
      ]
    },
    {
      "cell_type": "code",
      "metadata": {
        "id": "4AQmVdRbunBi",
        "colab_type": "code",
        "outputId": "ba0f7c87-8e4d-4a15-9573-335c78cd85b7",
        "colab": {
          "base_uri": "https://localhost:8080/",
          "height": 224
        }
      },
      "source": [
        "!wget -O loan_test.csv https://s3-api.us-geo.objectstorage.softlayer.net/cf-courses-data/CognitiveClass/ML0101ENv3/labs/loan_test.csv"
      ],
      "execution_count": 189,
      "outputs": [
        {
          "output_type": "stream",
          "text": [
            "--2020-04-20 22:47:58--  https://s3-api.us-geo.objectstorage.softlayer.net/cf-courses-data/CognitiveClass/ML0101ENv3/labs/loan_test.csv\n",
            "Resolving s3-api.us-geo.objectstorage.softlayer.net (s3-api.us-geo.objectstorage.softlayer.net)... 67.228.254.196\n",
            "Connecting to s3-api.us-geo.objectstorage.softlayer.net (s3-api.us-geo.objectstorage.softlayer.net)|67.228.254.196|:443... connected.\n",
            "HTTP request sent, awaiting response... 200 OK\n",
            "Length: 3642 (3.6K) [text/csv]\n",
            "Saving to: ‘loan_test.csv’\n",
            "\n",
            "\rloan_test.csv         0%[                    ]       0  --.-KB/s               \rloan_test.csv       100%[===================>]   3.56K  --.-KB/s    in 0s      \n",
            "\n",
            "2020-04-20 22:47:58 (621 MB/s) - ‘loan_test.csv’ saved [3642/3642]\n",
            "\n"
          ],
          "name": "stdout"
        }
      ]
    },
    {
      "cell_type": "markdown",
      "metadata": {
        "button": false,
        "new_sheet": false,
        "run_control": {
          "read_only": false
        },
        "id": "r7ZOTF0NunB5",
        "colab_type": "text"
      },
      "source": [
        "### Load Test set for evaluation "
      ]
    },
    {
      "cell_type": "code",
      "metadata": {
        "button": false,
        "new_sheet": false,
        "run_control": {
          "read_only": false
        },
        "id": "0No54L2RunB6",
        "colab_type": "code",
        "outputId": "246ffd66-3878-430a-a8c4-024212633d11",
        "colab": {
          "base_uri": "https://localhost:8080/",
          "height": 204
        }
      },
      "source": [
        "df_test = pd.read_csv('loan_test.csv')\n",
        "df_test.head()"
      ],
      "execution_count": 223,
      "outputs": [
        {
          "output_type": "execute_result",
          "data": {
            "text/html": [
              "<div>\n",
              "<style scoped>\n",
              "    .dataframe tbody tr th:only-of-type {\n",
              "        vertical-align: middle;\n",
              "    }\n",
              "\n",
              "    .dataframe tbody tr th {\n",
              "        vertical-align: top;\n",
              "    }\n",
              "\n",
              "    .dataframe thead th {\n",
              "        text-align: right;\n",
              "    }\n",
              "</style>\n",
              "<table border=\"1\" class=\"dataframe\">\n",
              "  <thead>\n",
              "    <tr style=\"text-align: right;\">\n",
              "      <th></th>\n",
              "      <th>Unnamed: 0</th>\n",
              "      <th>Unnamed: 0.1</th>\n",
              "      <th>loan_status</th>\n",
              "      <th>Principal</th>\n",
              "      <th>terms</th>\n",
              "      <th>effective_date</th>\n",
              "      <th>due_date</th>\n",
              "      <th>age</th>\n",
              "      <th>education</th>\n",
              "      <th>Gender</th>\n",
              "    </tr>\n",
              "  </thead>\n",
              "  <tbody>\n",
              "    <tr>\n",
              "      <th>0</th>\n",
              "      <td>1</td>\n",
              "      <td>1</td>\n",
              "      <td>PAIDOFF</td>\n",
              "      <td>1000</td>\n",
              "      <td>30</td>\n",
              "      <td>9/8/2016</td>\n",
              "      <td>10/7/2016</td>\n",
              "      <td>50</td>\n",
              "      <td>Bechalor</td>\n",
              "      <td>female</td>\n",
              "    </tr>\n",
              "    <tr>\n",
              "      <th>1</th>\n",
              "      <td>5</td>\n",
              "      <td>5</td>\n",
              "      <td>PAIDOFF</td>\n",
              "      <td>300</td>\n",
              "      <td>7</td>\n",
              "      <td>9/9/2016</td>\n",
              "      <td>9/15/2016</td>\n",
              "      <td>35</td>\n",
              "      <td>Master or Above</td>\n",
              "      <td>male</td>\n",
              "    </tr>\n",
              "    <tr>\n",
              "      <th>2</th>\n",
              "      <td>21</td>\n",
              "      <td>21</td>\n",
              "      <td>PAIDOFF</td>\n",
              "      <td>1000</td>\n",
              "      <td>30</td>\n",
              "      <td>9/10/2016</td>\n",
              "      <td>10/9/2016</td>\n",
              "      <td>43</td>\n",
              "      <td>High School or Below</td>\n",
              "      <td>female</td>\n",
              "    </tr>\n",
              "    <tr>\n",
              "      <th>3</th>\n",
              "      <td>24</td>\n",
              "      <td>24</td>\n",
              "      <td>PAIDOFF</td>\n",
              "      <td>1000</td>\n",
              "      <td>30</td>\n",
              "      <td>9/10/2016</td>\n",
              "      <td>10/9/2016</td>\n",
              "      <td>26</td>\n",
              "      <td>college</td>\n",
              "      <td>male</td>\n",
              "    </tr>\n",
              "    <tr>\n",
              "      <th>4</th>\n",
              "      <td>35</td>\n",
              "      <td>35</td>\n",
              "      <td>PAIDOFF</td>\n",
              "      <td>800</td>\n",
              "      <td>15</td>\n",
              "      <td>9/11/2016</td>\n",
              "      <td>9/25/2016</td>\n",
              "      <td>29</td>\n",
              "      <td>Bechalor</td>\n",
              "      <td>male</td>\n",
              "    </tr>\n",
              "  </tbody>\n",
              "</table>\n",
              "</div>"
            ],
            "text/plain": [
              "   Unnamed: 0  Unnamed: 0.1 loan_status  ...  age             education  Gender\n",
              "0           1             1     PAIDOFF  ...   50              Bechalor  female\n",
              "1           5             5     PAIDOFF  ...   35       Master or Above    male\n",
              "2          21            21     PAIDOFF  ...   43  High School or Below  female\n",
              "3          24            24     PAIDOFF  ...   26               college    male\n",
              "4          35            35     PAIDOFF  ...   29              Bechalor    male\n",
              "\n",
              "[5 rows x 10 columns]"
            ]
          },
          "metadata": {
            "tags": []
          },
          "execution_count": 223
        }
      ]
    },
    {
      "cell_type": "code",
      "metadata": {
        "id": "ah0tiUIpunCO",
        "colab_type": "code",
        "colab": {
          "base_uri": "https://localhost:8080/",
          "height": 204
        },
        "outputId": "4eb49a89-01da-4a7d-cdc8-e15fac5f6ec5"
      },
      "source": [
        "df_test['due_date'] = pd.to_datetime(df_test['due_date'])\n",
        "df_test['effective_date'] = pd.to_datetime(df_test['effective_date'])\n",
        "df_test['dayofweek'] = df_test['effective_date'].dt.dayofweek\n",
        "df_test['weekend'] = df_test['dayofweek'].apply(lambda x: 1 if (x>3)  else 0)\n",
        "df_test['Gender'].replace(to_replace=['male','female'], value=[0,1],inplace=True)\n",
        "F = df_test[['Principal','terms','age','Gender','weekend']]\n",
        "F = pd.concat([F,pd.get_dummies(df_test['education'])], axis=1)\n",
        "F.drop(['Master or Above'], axis = 1,inplace=True)\n",
        "F.head()"
      ],
      "execution_count": 224,
      "outputs": [
        {
          "output_type": "execute_result",
          "data": {
            "text/html": [
              "<div>\n",
              "<style scoped>\n",
              "    .dataframe tbody tr th:only-of-type {\n",
              "        vertical-align: middle;\n",
              "    }\n",
              "\n",
              "    .dataframe tbody tr th {\n",
              "        vertical-align: top;\n",
              "    }\n",
              "\n",
              "    .dataframe thead th {\n",
              "        text-align: right;\n",
              "    }\n",
              "</style>\n",
              "<table border=\"1\" class=\"dataframe\">\n",
              "  <thead>\n",
              "    <tr style=\"text-align: right;\">\n",
              "      <th></th>\n",
              "      <th>Principal</th>\n",
              "      <th>terms</th>\n",
              "      <th>age</th>\n",
              "      <th>Gender</th>\n",
              "      <th>weekend</th>\n",
              "      <th>Bechalor</th>\n",
              "      <th>High School or Below</th>\n",
              "      <th>college</th>\n",
              "    </tr>\n",
              "  </thead>\n",
              "  <tbody>\n",
              "    <tr>\n",
              "      <th>0</th>\n",
              "      <td>1000</td>\n",
              "      <td>30</td>\n",
              "      <td>50</td>\n",
              "      <td>1</td>\n",
              "      <td>0</td>\n",
              "      <td>1</td>\n",
              "      <td>0</td>\n",
              "      <td>0</td>\n",
              "    </tr>\n",
              "    <tr>\n",
              "      <th>1</th>\n",
              "      <td>300</td>\n",
              "      <td>7</td>\n",
              "      <td>35</td>\n",
              "      <td>0</td>\n",
              "      <td>1</td>\n",
              "      <td>0</td>\n",
              "      <td>0</td>\n",
              "      <td>0</td>\n",
              "    </tr>\n",
              "    <tr>\n",
              "      <th>2</th>\n",
              "      <td>1000</td>\n",
              "      <td>30</td>\n",
              "      <td>43</td>\n",
              "      <td>1</td>\n",
              "      <td>1</td>\n",
              "      <td>0</td>\n",
              "      <td>1</td>\n",
              "      <td>0</td>\n",
              "    </tr>\n",
              "    <tr>\n",
              "      <th>3</th>\n",
              "      <td>1000</td>\n",
              "      <td>30</td>\n",
              "      <td>26</td>\n",
              "      <td>0</td>\n",
              "      <td>1</td>\n",
              "      <td>0</td>\n",
              "      <td>0</td>\n",
              "      <td>1</td>\n",
              "    </tr>\n",
              "    <tr>\n",
              "      <th>4</th>\n",
              "      <td>800</td>\n",
              "      <td>15</td>\n",
              "      <td>29</td>\n",
              "      <td>0</td>\n",
              "      <td>1</td>\n",
              "      <td>1</td>\n",
              "      <td>0</td>\n",
              "      <td>0</td>\n",
              "    </tr>\n",
              "  </tbody>\n",
              "</table>\n",
              "</div>"
            ],
            "text/plain": [
              "   Principal  terms  age  ...  Bechalor  High School or Below  college\n",
              "0       1000     30   50  ...         1                     0        0\n",
              "1        300      7   35  ...         0                     0        0\n",
              "2       1000     30   43  ...         0                     1        0\n",
              "3       1000     30   26  ...         0                     0        1\n",
              "4        800     15   29  ...         1                     0        0\n",
              "\n",
              "[5 rows x 8 columns]"
            ]
          },
          "metadata": {
            "tags": []
          },
          "execution_count": 224
        }
      ]
    },
    {
      "cell_type": "code",
      "metadata": {
        "id": "3fbs0F9nunC7",
        "colab_type": "code",
        "colab": {}
      },
      "source": [
        "X_t = F\n",
        "y_t = df_test['loan_status'].values\n",
        "X_t= preprocessing.StandardScaler().fit(X_t).transform(X_t)"
      ],
      "execution_count": 0,
      "outputs": []
    },
    {
      "cell_type": "code",
      "metadata": {
        "id": "6dwBS865unDG",
        "colab_type": "code",
        "outputId": "a2e97202-0e7d-4435-b462-f1a3bbd65069",
        "colab": {
          "base_uri": "https://localhost:8080/",
          "height": 255
        }
      },
      "source": [
        "JKNN = jaccard_score(y_t,neigh.predict(X_t),average='weighted')\n",
        "JTree = jaccard_score(y_t,Tree.predict(X_t),average='weighted')\n",
        "JRL = jaccard_score(y_t, LR.predict(X_t),average='weighted')\n",
        "JSVM = jaccard_score(y_t,SVM_Class.predict(X_t),average='weighted')\n",
        "\n",
        "print(\"Test set Jaccard score \",\"\\n KNN: \",JKNN,\"\\n Tree: \", JTree,\"\\n SVM: \", JSVM, \"\\n LR: \",JRL)\n",
        "\n",
        "\n",
        "FKNN = f1_score(y_t,neigh.predict(X_t),average='weighted')\n",
        "FTree = f1_score(y_t,Tree.predict(X_t),average='weighted')\n",
        "FRL = f1_score(y_t, LR.predict(X_t),average='weighted')\n",
        "FSVM = f1_score(y_t,SVM_Class.predict(X_t),average='weighted')\n",
        "print(\"\\n Test set F1 score \",\"\\n KNN: \",FKNN,\"\\n Tree: \",FTree,\"\\n SVM: \", FSVM, \"\\n LR: \",FRL)\n",
        "\n",
        "LLRL = log_loss(y_t, LR.predict_proba(X_t),normalize=True)\n",
        "\n",
        "\n",
        "print(\"\\n Test set Log Loss \", \"\\n LR: \",LLRL)"
      ],
      "execution_count": 245,
      "outputs": [
        {
          "output_type": "stream",
          "text": [
            "Test set Jaccard score  \n",
            " KNN:  0.5555555555555556 \n",
            " Tree:  0.5775681341719078 \n",
            " SVM:  0.5486968449931412 \n",
            " LR:  0.5775681341719078\n",
            "\n",
            " Test set F1 score  \n",
            " KNN:  0.6860670194003526 \n",
            " Tree:  0.6717642373556352 \n",
            " SVM:  0.6304176516942475 \n",
            " LR:  0.6717642373556352\n",
            "\n",
            " Test set Log Loss  \n",
            " LR:  0.4712651978859681\n"
          ],
          "name": "stdout"
        }
      ]
    },
    {
      "cell_type": "markdown",
      "metadata": {
        "id": "GLwuervuunDc",
        "colab_type": "text"
      },
      "source": [
        "# Report\n",
        "You should be able to report the accuracy of the built model using different evaluation metrics:"
      ]
    },
    {
      "cell_type": "markdown",
      "metadata": {
        "id": "zBs28imMunDe",
        "colab_type": "text"
      },
      "source": [
        "| Algorithm          | Jaccard | F1-score | LogLoss |\n",
        "|--------------------|---------|----------|---------|\n",
        "| KNN                |   0.56  |   0.69   | NA      |\n",
        "| Decision Tree      |   0.58  |   0.67   | NA      |\n",
        "| SVM                |   0.55  |   0.63   | NA      |\n",
        "| LogisticRegression |   0.58  |   0.67   |  0.47   |\n"
      ]
    },
    {
      "cell_type": "markdown",
      "metadata": {
        "button": false,
        "new_sheet": false,
        "run_control": {
          "read_only": false
        },
        "id": "WnEACNqzunDn",
        "colab_type": "text"
      },
      "source": [
        "<h2>Want to learn more?</h2>\n",
        "\n",
        "IBM SPSS Modeler is a comprehensive analytics platform that has many machine learning algorithms. It has been designed to bring predictive intelligence to decisions made by individuals, by groups, by systems – by your enterprise as a whole. A free trial is available through this course, available here: <a href=\"http://cocl.us/ML0101EN-SPSSModeler\">SPSS Modeler</a>\n",
        "\n",
        "Also, you can use Watson Studio to run these notebooks faster with bigger datasets. Watson Studio is IBM's leading cloud solution for data scientists, built by data scientists. With Jupyter notebooks, RStudio, Apache Spark and popular libraries pre-packaged in the cloud, Watson Studio enables data scientists to collaborate on their projects without having to install anything. Join the fast-growing community of Watson Studio users today with a free account at <a href=\"https://cocl.us/ML0101EN_DSX\">Watson Studio</a>\n",
        "\n",
        "<h3>Thanks for completing this lesson!</h3>\n",
        "\n",
        "<h4>Author:  <a href=\"https://ca.linkedin.com/in/saeedaghabozorgi\">Saeed Aghabozorgi</a></h4>\n",
        "<p><a href=\"https://ca.linkedin.com/in/saeedaghabozorgi\">Saeed Aghabozorgi</a>, PhD is a Data Scientist in IBM with a track record of developing enterprise level applications that substantially increases clients’ ability to turn data into actionable knowledge. He is a researcher in data mining field and expert in developing advanced analytic methods like machine learning and statistical modelling on large datasets.</p>\n",
        "\n",
        "<hr>\n",
        "\n",
        "<p>Copyright &copy; 2018 <a href=\"https://cocl.us/DX0108EN_CC\">Cognitive Class</a>. This notebook and its source code are released under the terms of the <a href=\"https://bigdatauniversity.com/mit-license/\">MIT License</a>.</p>"
      ]
    }
  ]
}